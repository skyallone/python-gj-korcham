{
 "cells": [
  {
   "cell_type": "code",
   "execution_count": null,
   "metadata": {},
   "outputs": [],
   "source": [
    ">>> food =  \"후덜덜\"\n",
    ">>> life = \"냥냥\"\n",
    ">>> food * 2\n",
    "\n",
    "#문자열도 연산이 가능하다 *라던가 더하기 라던가가"
   ]
  },
  {
   "cell_type": "code",
   "execution_count": null,
   "metadata": {},
   "outputs": [],
   "source": [
    "print(\"=\" * 50)\n",
    "print(\"my c\")\n",
    "print(\"=\" * 50)\n",
    "\n",
    "print(\"=\" * 50, \"\"\"my c, \"=\" * 50) \"\n",
    "#애는 안되나 보다 위에것은 된다. 문자열 줄바꾸는 \"\"\"가 함수내에선 안되나 보다\n",
    "#이를 이용해서 \"\"\"안에 =라는 변수를 주고 곱하기 50을 이용용\n"
   ]
  },
  {
   "cell_type": "code",
   "execution_count": null,
   "metadata": {},
   "outputs": [],
   "source": [
    ">>> a = \"ㄱㄴㄷㄹㅁ ㅂㅅㅍ노바\"\n",
    ">>> a[3]\n",
    "\n",
    ">>> a[-3]\n",
    "\n",
    "#인덱싱은 문자열에서 찾는 것 즉 위a[3]은 ㄱ=0 ㄴ=1 이런식으로해 ㄹ이 나오고 a[-3]은 뒤에서부터 시작해 ㅍ이 나온다다"
   ]
  },
  {
   "cell_type": "code",
   "execution_count": null,
   "metadata": {},
   "outputs": [],
   "source": [
    ">>> a = \"life is too short, you need python\"\n",
    ">>> b = a[0] + a[1] + a[2] + a[3]\n",
    ">>> b\n"
   ]
  },
  {
   "cell_type": "code",
   "execution_count": null,
   "metadata": {},
   "outputs": [],
   "source": [
    ">>> a = \"life is too short, you need python\"\n",
    ">>> a[0:4]\n",
    "\n",
    "#a[0:4]를 수식으로 표현하면 0 <= a < 4"
   ]
  },
  {
   "cell_type": "code",
   "execution_count": null,
   "metadata": {},
   "outputs": [],
   "source": [
    ">>> a = \"life is too short, you need python\"\n",
    ">>> a[19:]\n",
    ">>> a[:17]\n",
    ">>> a[19:-7]\n",
    "\n",
    "#등 다양해게 이용 가능"
   ]
  },
  {
   "cell_type": "code",
   "execution_count": null,
   "metadata": {},
   "outputs": [],
   "source": [
    ">>> a = \"20230331rainy\"\n",
    ">>> date = a[:8]\n",
    ">>> weather = a[8:]\n",
    ">>> date\n",
    "\n",
    "#이런식으로 응용도 가능하다 "
   ]
  },
  {
   "cell_type": "code",
   "execution_count": null,
   "metadata": {},
   "outputs": [],
   "source": [
    ">>> a = \"pithon\"\n",
    ">>> a[1]\n",
    ">>> a[1] = 'y'\n",
    "\n",
    "#a[1]을 y로 바꿀려했지만 불가능 변경 불가능한 문자열열\n"
   ]
  },
  {
   "cell_type": "code",
   "execution_count": null,
   "metadata": {},
   "outputs": [
    {
     "name": "stdout",
     "output_type": "stream",
     "text": [
      "i eat 3 apple\n"
     ]
    }
   ],
   "source": [
    "#문자열 포메팅 \n",
    "\n",
    "print(\"i eat %d apple\" % 3) # %d는 문자열 포맷 코드> %d뒤에 % 3으로 값을 넣어줬다\n",
    "print(\"i eat %s apple\" % five) # 문자열은 %s\n",
    "print(\"i eat %d apple\" % number) # 숫자값 변수"
   ]
  }
 ],
 "metadata": {
  "kernelspec": {
   "display_name": "Python 3",
   "language": "python",
   "name": "python3"
  },
  "language_info": {
   "codemirror_mode": {
    "name": "ipython",
    "version": 3
   },
   "file_extension": ".py",
   "mimetype": "text/x-python",
   "name": "python",
   "nbconvert_exporter": "python",
   "pygments_lexer": "ipython3",
   "version": "3.13.2"
  }
 },
 "nbformat": 4,
 "nbformat_minor": 2
}
