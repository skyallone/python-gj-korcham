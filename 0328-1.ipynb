{
 "cells": [
  {
   "cell_type": "markdown",
   "metadata": {},
   "source": [
    "배열열"
   ]
  },
  {
   "cell_type": "code",
   "execution_count": null,
   "metadata": {},
   "outputs": [],
   "source": [
    "#배열\n",
    "\n",
    "lang = []\n",
    "lang.append(\"파이썬\")\n",
    "lang.append(\"C언어\")\n",
    "lang.append(\"자바\")\n",
    "print(lang)\n",
    "print(lang[0])\n",
    "\n",
    "#append는 리스트형 함수 첨부하는 함수이다"
   ]
  },
  {
   "cell_type": "code",
   "execution_count": null,
   "metadata": {},
   "outputs": [],
   "source": [
    "#배열2\n",
    "\n",
    "a = []\n",
    "for i in range(1, 10, 1):\n",
    "    a.append(i)\n",
    "print(a)"
   ]
  },
  {
   "cell_type": "code",
   "execution_count": null,
   "metadata": {},
   "outputs": [],
   "source": [
    "#배열3 10, 20, 30, ..., 100 저장하고 거꾸로 출력하기\n",
    "\n",
    "a = []\n",
    "for i in range(10, 101, 10):\n",
    "    a.append(i)\n",
    "for i in range(9, -1, -1):\n",
    "    print(a[i], end=\" \")\n",
    "\n",
    "#range함수 \n"
   ]
  },
  {
   "cell_type": "code",
   "execution_count": null,
   "metadata": {},
   "outputs": [],
   "source": [
    "#배열 요소 거꾸로 뒤집기\n",
    "\n",
    "a = [1, 2, 3, 4, 5, 6, 7, 8, 9, 10]\n",
    "for i in range(0, 5):\n",
    "    temp = a[i]\n",
    "    a[i] = a[9-i]\n",
    "    a[9-i] =  temp\n",
    "print(a)\n",
    "\n",
    "# reverse 함수를 통해 동일한 결과값 가능 \n",
    "a = [1, 2, 3, 4, 5, 6, 7, 8, 9, 10]\n",
    "a.reverse()\n",
    " print(a)"
   ]
  },
  {
   "cell_type": "code",
   "execution_count": null,
   "metadata": {},
   "outputs": [],
   "source": [
    "#배열 a 요소 배열 b에 거꾸로 저장하기\n",
    "\n",
    "a = [1, 2, 3, 4, 5, 6, 7, 8, 9, 10]\n",
    "b = []\n",
    "for i in range(0, 10):\n",
    "    b.append(a[9-i])\n",
    "print(b)\n",
    "\n"
   ]
  },
  {
   "cell_type": "code",
   "execution_count": null,
   "metadata": {},
   "outputs": [],
   "source": [
    "#배열 요소 왼쪽으로 한 칸씩 원형으로 이동하기\n",
    "a = [1, 2, 3, 4, 5, 6, 7, 8, 9, 10]\n",
    "temp =  a[0]\n",
    "for i in range(0, 9):\n",
    "    a[i] = a[i+1]\n",
    "a[9] = temp\n",
    "print(a)\n"
   ]
  },
  {
   "cell_type": "code",
   "execution_count": null,
   "metadata": {},
   "outputs": [],
   "source": [
    "#배열 최댓값 구하기\n",
    "\n",
    "import random\n",
    "a = []\n",
    "for i in range(10):\n",
    " a.append(random.randint(1, 100))\n",
    "print(a)\n",
    "m = a[0]\n",
    "for i  in range(1, 10):\n",
    " if m<a[i]:\n",
    "  m = a[i]\n",
    "print(\"최댓값\", m)\n",
    "\n",
    "#import는 함수나 모듈을 가져오는 명령어"
   ]
  },
  {
   "cell_type": "code",
   "execution_count": null,
   "metadata": {},
   "outputs": [],
   "source": [
    "#에라토스테네스의 체\n",
    "\n",
    "a = []\n",
    "for i in range(1, 102):\n",
    "    a.append(0)\n",
    "for i in range(2, 101):\n",
    "    if a[i] ==  0:\n",
    "        for j in range(i*2, 101, i):\n",
    "            a[j] = 1\n",
    "for i in range(2, 101):\n",
    "    if a[i] == 0:\n",
    "        print(i, end=\"  \")\n"
   ]
  },
  {
   "cell_type": "code",
   "execution_count": null,
   "metadata": {},
   "outputs": [],
   "source": [
    "# 10진수를 2진수로 변환하여 배열에 저장하기\n",
    "\n",
    "b = []\n",
    "n = int(input(\"10진수: \"))\n",
    "while n!= 0:\n",
    "    b.append(n%2)\n",
    "    n = n//2\n",
    "for i in range(len(b)-1, -1, -1):\n",
    "    print(b[i], end= \" \")\n"
   ]
  },
  {
   "cell_type": "code",
   "execution_count": null,
   "metadata": {},
   "outputs": [],
   "source": [
    "#배열에 저장된 2진수를 10진수로 변환하\n",
    "\n",
    "b = [1, 1, 0, 0, 1]\n",
    "n = 0\n",
    "for i in range(0, 5):\n",
    "    n = n + b[i] * (2**(4 - i))\n",
    "print(n)\n"
   ]
  },
  {
   "cell_type": "code",
   "execution_count": null,
   "metadata": {},
   "outputs": [],
   "source": [
    "#선형 탐색\n",
    "\n",
    "a = [26, 27, 39, 63, 57, 75, 11, 76, 80, 18]\n",
    "key = int(input(\"키: \"))\n",
    "cnt = 0\n",
    "while cnt< 10:\n",
    "    if key == a[cnt]:\n",
    "        print(cnt, \"에서 탐색 성공\")\n",
    "        break\n",
    "    cnt = cnt+1\n",
    "if cnt == 10:\n",
    "    print(\"탐색실패\")\n",
    "    "
   ]
  },
  {
   "cell_type": "code",
   "execution_count": null,
   "metadata": {},
   "outputs": [],
   "source": [
    "#이진 탐색\n",
    "a = [11, 18, 26, 27, 39, 57, 63, 75, 76, 80]\n",
    "key = int(input(\"키: \"))\n",
    "low = 0\n",
    "high = 9\n",
    "while low < high:\n",
    "    mid =(low+high)//2\n",
    "    if key == a[mid]:\n",
    "        print(mid, \"탐색ㅎ완료\")\n",
    "        break\n",
    "    elif key < a[mid]:\n",
    "        high = mid-1\n",
    "    else:\n",
    "        low = mid+1\n",
    "if low > high:\n",
    "    print(\"탐색실패\")\n"
   ]
  },
  {
   "cell_type": "code",
   "execution_count": 40,
   "metadata": {},
   "outputs": [
    {
     "name": "stdout",
     "output_type": "stream",
     "text": [
      "[10, 20, 30, 40, 50, 60]\n"
     ]
    }
   ],
   "source": [
    "#선택 정렬\n",
    "\n",
    "a  = [20, 50, 30, 10, 60, 40]\n",
    "for i in range(0, 5):\n",
    "    m = i\n",
    "    for j in range(i+1, 6):\n",
    "        if a[j]<a[m]:\n",
    "            m = j\n",
    "    temp= a[i]\n",
    "    a[i]= a[m]\n",
    "    a[m]= temp\n",
    "print(a)\n"
   ]
  },
  {
   "cell_type": "code",
   "execution_count": 48,
   "metadata": {},
   "outputs": [
    {
     "name": "stdout",
     "output_type": "stream",
     "text": [
      "[1, 3, 3, 4, 5, 7, 8, 10]\n"
     ]
    }
   ],
   "source": [
    "#병합 정렬\n",
    "a  = [1, 3, 5, 7]\n",
    "b  = [3, 4, 8, 10]\n",
    "c = []\n",
    "i = 0\n",
    "j = 0\n",
    "while i < 4 and j <4:\n",
    "    if a[i]<b[j]:\n",
    "        c.append(a[i])\n",
    "        i = i+1\n",
    "    else:\n",
    "        c.append(b[j])\n",
    "        j= j+1\n",
    "if i==4:\n",
    "    while j<4:\n",
    "        c.append(b[j])\n",
    "        j= j+1\n",
    "else:\n",
    "    while i<4:\n",
    "        c.append(a[i])\n",
    "        i = i+1\n",
    "print(c)\n"
   ]
  },
  {
   "cell_type": "markdown",
   "metadata": {},
   "source": [
    "함수!!"
   ]
  },
  {
   "cell_type": "code",
   "execution_count": null,
   "metadata": {},
   "outputs": [
    {
     "name": "stdout",
     "output_type": "stream",
     "text": [
      "안녕 파이썬\n"
     ]
    }
   ],
   "source": [
    "#함수 개요요\n",
    "def hello(name):\n",
    "    print(\"안녕\",name)\n",
    "hello(\"파이썬\")\n",
    "\n",
    "#함수값에도 뒤에 :를 붙이고 들여쓰기!!"
   ]
  },
  {
   "cell_type": "code",
   "execution_count": null,
   "metadata": {},
   "outputs": [
    {
     "name": "stdout",
     "output_type": "stream",
     "text": [
      "81\n"
     ]
    }
   ],
   "source": [
    "def power(a,b):\n",
    "    c = a**b\n",
    "    return c\n",
    "a= power(3,4)\n",
    "print(a)\n",
    "\n",
    "# def 함수이름(매개변수1, 매개변수2):\n",
    "    # 함수 코드\n",
    "   #return 반환값\n",
    "   "
   ]
  },
  {
   "cell_type": "code",
   "execution_count": 52,
   "metadata": {},
   "outputs": [
    {
     "name": "stdout",
     "output_type": "stream",
     "text": [
      "3\n"
     ]
    }
   ],
   "source": [
    "#함수 이용하여 큰수 찾기\n",
    "\n",
    "def func(a,b):\n",
    "    if a>b:\n",
    "        return a\n",
    "    else:\n",
    "        return b\n",
    "a = int(input(\"정수: \"))\n",
    "b = int(input(\"정수: \"))\n",
    "r= func(a, b)\n",
    "print(r)\n"
   ]
  },
  {
   "cell_type": "code",
   "execution_count": 53,
   "metadata": {},
   "outputs": [
    {
     "name": "stdout",
     "output_type": "stream",
     "text": [
      "69\n"
     ]
    }
   ],
   "source": [
    "#3개 중 가장 큰수\n",
    "\n",
    "def func(a,b,c):\n",
    "    if a>b:\n",
    "        if a>c:\n",
    "            return a\n",
    "    else:\n",
    "        if b>c:\n",
    "            return b\n",
    "        else:\n",
    "            return c\n",
    "a = int(input(\"정수: \"))\n",
    "b = int(input(\"정수: \"))\n",
    "c = int(input(\"정수: \"))\n",
    "r = func(a, b, c)\n",
    "print(r)\n"
   ]
  },
  {
   "cell_type": "code",
   "execution_count": 54,
   "metadata": {},
   "outputs": [
    {
     "name": "stdout",
     "output_type": "stream",
     "text": [
      "1 : 1 2 : 1 2 3 : 1 3 4 : 1 2 4 5 : 1 5 6 : 1 2 3 6 7 : 1 7 8 : 1 2 4 8 9 : 1 3 9 10 : 1 2 5 10 \n"
     ]
    }
   ],
   "source": [
    "#함수 이용해서 1부터 10까지의 약수 구하기\n",
    "\n",
    "def func(a):\n",
    "    for i  in range(1, a+1):\n",
    "        if a%i==0:\n",
    "            print(i, end=\" \")\n",
    "for i in range(1, 11):\n",
    "    print(i, \":\", end=\" \")\n",
    "    func(i)\n",
    "print()\n"
   ]
  },
  {
   "cell_type": "code",
   "execution_count": 55,
   "metadata": {},
   "outputs": [
    {
     "name": "stdout",
     "output_type": "stream",
     "text": [
      "55\n"
     ]
    }
   ],
   "source": [
    "#재귀함수 이용해서 1부터 입력 받은 수까지의 합 구하기\n",
    "\n",
    "def s(a):\n",
    "    if a<=1:\n",
    "        return 1\n",
    "    return a+s(a-1)\n",
    "n=int(input(\"정수: \"))\n",
    "result = s(n)\n",
    "print(result)\n"
   ]
  },
  {
   "cell_type": "code",
   "execution_count": 57,
   "metadata": {},
   "outputs": [
    {
     "name": "stdout",
     "output_type": "stream",
     "text": [
      "13\n"
     ]
    }
   ],
   "source": [
    "#재귀함수 이용해서 피보나치수열 구하기\n",
    "\n",
    "def fibo(a):\n",
    "    if a<=2: \n",
    "        return 1\n",
    "    return fibo(a-1)+fibo(a-2)\n",
    "n = int(input(\"정수: \"))\n",
    "result = fibo(n)\n",
    "print(result)"
   ]
  }
 ],
 "metadata": {
  "kernelspec": {
   "display_name": "Python 3",
   "language": "python",
   "name": "python3"
  },
  "language_info": {
   "codemirror_mode": {
    "name": "ipython",
    "version": 3
   },
   "file_extension": ".py",
   "mimetype": "text/x-python",
   "name": "python",
   "nbconvert_exporter": "python",
   "pygments_lexer": "ipython3",
   "version": "3.13.2"
  }
 },
 "nbformat": 4,
 "nbformat_minor": 2
}
