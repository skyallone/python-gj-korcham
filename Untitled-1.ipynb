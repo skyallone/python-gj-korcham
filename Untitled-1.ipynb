{
 "cells": [
  {
   "cell_type": "markdown",
   "metadata": {},
   "source": [
    "# 중첩 반복문 \n"
   ]
  },
  {
   "cell_type": "code",
   "execution_count": null,
   "metadata": {},
   "outputs": [],
   "source": [
    "for i in range(1, 3, 1):\n",
    "    for j in range(1, 4, 1):\n",
    "        print(i, j)"
   ]
  },
  {
   "cell_type": "code",
   "execution_count": null,
   "metadata": {},
   "outputs": [],
   "source": [
    "for i in range(1, 10, 1):\n",
    "    for j in range(1, 10, 1):\n",
    "            result = i * j \n",
    "            print(f\"{i} x {j} = {result}\")\n",
    "\n",
    "\n",
    "\n",
    "\n",
    " #print(i*j, end=\"\")를 했더니 전부 다 곱한게 되었다\n",
    " #처음에는 이 방식으로 하였지만 오류 변수 지정을 f{}으로 해야했었다\n",
    "\n",
    "# i= \"i\"*\"j\"\n",
    "#print(i)"
   ]
  },
  {
   "cell_type": "markdown",
   "metadata": {},
   "source": [
    "점차 증가 1~10 for,while문"
   ]
  },
  {
   "cell_type": "code",
   "execution_count": null,
   "metadata": {},
   "outputs": [],
   "source": [
    "i=1\n",
    "while i <= 10:\n",
    "    print(i, end=\"\")\n",
    "    i= i+1"
   ]
  },
  {
   "cell_type": "code",
   "execution_count": null,
   "metadata": {},
   "outputs": [],
   "source": [
    "for i in range(1, 10, 1):\n",
    "    print(i, end=\"\")\n",
    "    i= i+1\n"
   ]
  },
  {
   "cell_type": "markdown",
   "metadata": {},
   "source": [
    "역순 1~10 "
   ]
  },
  {
   "cell_type": "code",
   "execution_count": null,
   "metadata": {},
   "outputs": [],
   "source": [
    "i=10\n",
    "while i > 0:\n",
    "    print(i, end=\"\")\n",
    "    i= i -1\n",
    "\n",
    "# while문에서 while range(10, 1, 1): 처음에 이런 식으로 생각해봤는데 안되었다. while 문에선 range함수가 작동하지않는다다"
   ]
  },
  {
   "cell_type": "code",
   "execution_count": null,
   "metadata": {},
   "outputs": [],
   "source": [
    "i=10\n",
    "for i in range(10, 0, -1):\n",
    "    print(i, end=\"\")\n",
    "    i= i-1\n",
    "\n",
    "#for문에서 연산자기호를 실행해봤지만 안되었다, for i in i>0을 했는데 오류\n",
    "\n"
   ]
  },
  {
   "cell_type": "code",
   "execution_count": null,
   "metadata": {},
   "outputs": [],
   "source": [
    "#sum이 0부터 시작하는 1~100까지의 총합구하기\n",
    "\n",
    "sum=0\n",
    "for i in range(1, 101):\n",
    "    sum=sum+i\n",
    "    print(sum)\n",
    "    \n",
    "\n"
   ]
  },
  {
   "cell_type": "code",
   "execution_count": null,
   "metadata": {},
   "outputs": [],
   "source": [
    "chk = 1\n",
    "n = int(input(\"정수: \"))\n",
    "\n",
    "\n",
    "if n < 2:\n",
    "    chk = 0\n",
    "\n",
    "for i in range(2, int(n**0.5) + 1):  \n",
    "    if n % i == 0:  \n",
    "        chk = 0  \n",
    "        break  \n",
    "\n",
    "if chk == 1:\n",
    "    print(n, \": 소수임\")\n",
    "else:\n",
    "    print(n, \": 소수 아님\")"
   ]
  },
  {
   "cell_type": "code",
   "execution_count": null,
   "metadata": {},
   "outputs": [],
   "source": [
    "#피노나치 수열 만들기\n",
    "\n",
    "a = 1\n",
    "b = 1\n",
    "print(a, b, end=\" \")\n",
    "for i in range(3, 21):\n",
    "    c = a+b\n",
    "    print(c, end=\" \")\n",
    "    a = b\n",
    "    b = c"
   ]
  }
 ],
 "metadata": {
  "kernelspec": {
   "display_name": "Python 3",
   "language": "python",
   "name": "python3"
  },
  "language_info": {
   "codemirror_mode": {
    "name": "ipython",
    "version": 3
   },
   "file_extension": ".py",
   "mimetype": "text/x-python",
   "name": "python",
   "nbconvert_exporter": "python",
   "pygments_lexer": "ipython3",
   "version": "3.12.9"
  }
 },
 "nbformat": 4,
 "nbformat_minor": 2
}
